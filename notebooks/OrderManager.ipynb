{
 "cells": [
  {
   "cell_type": "markdown",
   "id": "d7d9369f",
   "metadata": {},
   "source": [
    "# Buy Market USDT => BTC\n",
    "\n",
    "```python\n",
    "order = await order_manager.buy_market(\"BTCUSDT\", Decimal(20))\n",
    "order\n",
    "{'symbol': 'BTCUSDT',\n",
    " 'orderId': 13293218630,\n",
    " 'orderListId': -1,\n",
    " 'clientOrderId': 'RDFqJQpodvT1bXAksVnhSc',\n",
    " 'transactTime': 1662717675603,\n",
    " 'price': '0.00000000',\n",
    " 'origQty': '0.00096000',\n",
    " 'executedQty': '0.00096000',\n",
    " 'cummulativeQuoteQty': '19.92029760',\n",
    " 'status': 'FILLED',\n",
    " 'timeInForce': 'GTC',\n",
    " 'type': 'MARKET',\n",
    " 'side': 'BUY',\n",
    " 'fills': [{'price': '20750.31000000',\n",
    "            'qty': '0.00096000',\n",
    "            'commission': '0.00000000',\n",
    "            'commissionAsset': 'BNB',\n",
    "            'tradeId': 1781185926}]}\n",
    "TAKEPOS (12:01:15) BTCUSDT = BUY MARKET 0.00096\n",
    "```\n",
    "\n",
    "# Prepare\n",
    "\n",
    "```python\n",
    "ampbtc = pairs[\"AMPBTC\"]\n",
    "ampbtc.ask_price => Decimal('2.8E-7')\n",
    "ampbtc.bid_price => Decimal('2.7E-7')\n",
    "\n",
    "price = ampbtc.bid_price\n",
    "\n",
    "amount = order_manager.convert_to_quote(ampbtc, 2000)\n",
    "amount => Decimal('0.00054000')\n",
    "\n",
    "order_manager.convert_to_quote(btcusdt, amount)\n",
    "=> Decimal('11.1976722000000000') # In Euros\n",
    "```\n",
    "\n",
    "# Buy Maker and Cancel\n",
    "\n",
    "```python\n",
    "order = await order_manager.buy_maker(\"AMPBTC\", price, amount)\n",
    "{'id': 8985097,\n",
    " 'symbol': 'AMPBTC',\n",
    " 'status': 'NEW',\n",
    " 'type': 'LIMIT_MAKER',\n",
    " 'side': 'BUY',\n",
    " 'price': Decimal('2.7E-7'),\n",
    " 'stop_price': Decimal('0E-8'),\n",
    " 'time_in_force': 'GTC',\n",
    " 'requested_quantity': Decimal('2000.00000000'),\n",
    " 'executed_quantity': Decimal('0E-8'),\n",
    " 'created_at': datetime.datetime(2022, 9, 9, 10, 19, 31, 430000),\n",
    " 'updated_at': datetime.datetime(2022, 9, 9, 10, 19, 31, 430000),\n",
    " 'strategy_id': None,\n",
    " 'internal_id': UUID('6339cdd5-0768-4733-b632-0a11cc35e9ab')}\n",
    "TAKEPOS (12:19:31) AMPBTC  = BUY MAKER 2000.0 @ 0.00000027\n",
    "\n",
    "await order_manager.cancel_order(order)\n",
    "{'id': 8985097,\n",
    " 'symbol': 'AMPBTC',\n",
    " 'status': 'CANCELED',\n",
    " 'type': 'LIMIT_MAKER',\n",
    " 'side': 'BUY',\n",
    " 'price': Decimal('2.7E-7'),\n",
    " 'stop_price': Decimal('0E-8'),\n",
    " 'time_in_force': 'GTC',\n",
    " 'requested_quantity': Decimal('2000.00000000'),\n",
    " 'executed_quantity': Decimal('0E-8'),\n",
    " 'created_at': datetime.datetime(2022, 9, 9, 10, 19, 31, 430000),\n",
    " 'updated_at': datetime.datetime(2022, 9, 9, 10, 19, 38, 344000),\n",
    " 'strategy_id': None,\n",
    " 'internal_id': UUID('6f627bc8-ee75-43db-a893-ac402071b5c1')}\n",
    "```\n",
    "\n",
    "# Buy Market BTC => AMP\n",
    "\n",
    "```python\n",
    "order = await order_manager.buy_market(\"AMPBTC\", amount)\n",
    "{'symbol': 'AMPBTC',\n",
    " 'orderId': 8986103,\n",
    " 'orderListId': -1,\n",
    " 'clientOrderId': 'lFQZmZPTPAamWfalA8RFRF',\n",
    " 'transactTime': 1662720091246,\n",
    " 'price': '0.00000000',\n",
    " 'origQty': '1928.00000000',\n",
    " 'executedQty': '1928.00000000',\n",
    " 'cummulativeQuoteQty': '0.00053984',\n",
    " 'status': 'FILLED',\n",
    " 'timeInForce': 'GTC',\n",
    " 'type': 'MARKET',\n",
    " 'side': 'BUY',\n",
    " 'fills': [{'price': '0.00000028',\n",
    "            'qty': '1928.00000000',\n",
    "            'commission': '0.00002920',\n",
    "            'commissionAsset': 'BNB',\n",
    "            'tradeId': 402455}]}\n",
    "TAKEPOS (12:41:31) AMPBTC  = BUY MARKET 1928.0\n",
    "```\n",
    "\n",
    "# Sell Maker and Cancel\n",
    "\n",
    "```python\n",
    "order = await order_manager.sell_maker(\"AMPBTC\", ampbtc.ask_price, order.executed_quantity) # Decimal(\"1928\"))\n",
    "order\n",
    "{'id': 8988519,\n",
    " 'symbol': 'AMPBTC',\n",
    " 'status': 'NEW',\n",
    " 'type': 'LIMIT_MAKER',\n",
    " 'side': 'SELL',\n",
    " 'price': Decimal('2.8E-7'),\n",
    " 'stop_price': Decimal('0E-8'),\n",
    " 'time_in_force': 'GTC',\n",
    " 'requested_quantity': Decimal('1928.00000000'),\n",
    " 'executed_quantity': Decimal('0E-8'),\n",
    " 'created_at': datetime.datetime(2022, 9, 9, 11, 38, 12, 442000),\n",
    " 'updated_at': datetime.datetime(2022, 9, 9, 11, 38, 12, 442000),\n",
    " 'strategy_id': None,\n",
    " 'internal_id': UUID('72177093-0163-4b46-8f08-598d27c63c47')}\n",
    "TAKEPOS (13:38:12) AMPBTC  = SELL MAKER 1928.0 @ 0.00000028\n",
    "\n",
    "order = await order_manager.cancel_order(order)\n",
    "order\n",
    "{'id': 8988519,\n",
    " 'symbol': 'AMPBTC',\n",
    " 'status': 'CANCELED',\n",
    " 'type': 'LIMIT_MAKER',\n",
    " 'side': 'SELL',\n",
    " 'price': Decimal('2.8E-7'),\n",
    " 'stop_price': Decimal('0E-8'),\n",
    " 'time_in_force': 'GTC',\n",
    " 'requested_quantity': Decimal('1928.00000000'),\n",
    " 'executed_quantity': Decimal('0E-8'),\n",
    " 'created_at': datetime.datetime(2022, 9, 9, 11, 38, 12, 442000),\n",
    " 'updated_at': datetime.datetime(2022, 9, 9, 11, 38, 17, 667000),\n",
    " 'strategy_id': None,\n",
    " 'internal_id': UUID('72177093-0163-4b46-8f08-598d27c63c47')}\n",
    "```\n",
    "\n",
    "# Sell Market AMP => BTC\n",
    "\n",
    "```python\n",
    "order = await order_manager.sell_market(\"AMPBTC\", Decimal(\"1928\"))\n",
    "order\n",
    "{'id': 8988731,\n",
    " 'symbol': 'AMPBTC',\n",
    " 'status': 'FILLED',\n",
    " 'type': 'MARKET',\n",
    " 'side': 'SELL',\n",
    " 'price': Decimal('0E-8'),\n",
    " 'stop_price': Decimal('0E-8'),\n",
    " 'time_in_force': 'GTC',\n",
    " 'requested_quantity': Decimal('1928.00000000'),\n",
    " 'executed_quantity': Decimal('1928.00000000'),\n",
    " 'created_at': datetime.datetime(2022, 9, 9, 11, 47, 10, 603000),\n",
    " 'updated_at': datetime.datetime(2022, 9, 9, 11, 47, 10, 603000),\n",
    " 'strategy_id': None,\n",
    " 'internal_id': UUID('27e33b89-9591-4abe-849e-2f40ab21cfae')}\n",
    "TAKEPOS (13:47:10) AMPBTC  = SELL MARKET 1928.0\n",
    "```\n",
    "\n",
    "# Sell All Maker AMP => BTC\n",
    "\n",
    "```python\n",
    "order = await order_manager.sell_all_maker(\"AMPBTC\", ampbtc.ask_price)\n",
    "order\n",
    "{'id': 8989454,\n",
    " 'symbol': 'AMPBTC',\n",
    " 'status': 'NEW',\n",
    " 'type': 'LIMIT_MAKER',\n",
    " 'side': 'SELL',\n",
    " 'price': Decimal('2.8E-7'),\n",
    " 'stop_price': Decimal('0E-8'),\n",
    " 'time_in_force': 'GTC',\n",
    " 'requested_quantity': Decimal('2671.00000000'),\n",
    " 'executed_quantity': Decimal('0E-8'),\n",
    " 'created_at': datetime.datetime(2022, 9, 9, 12, 8, 51, 122000),\n",
    " 'updated_at': datetime.datetime(2022, 9, 9, 12, 8, 51, 122000),\n",
    " 'strategy_id': None,\n",
    " 'internal_id': UUID('e84445cf-4e3a-485e-a7f3-9ff3c80630f2')}\n",
    "TAKEPOS (14:08:51) AMPBTC  = SELL ALL MAKER 2671.0 @ 0.00000028\n",
    "\n",
    "order = await order_manager.cancel_order(order)\n",
    "order\n",
    "{'id': 8989454,\n",
    " 'symbol': 'AMPBTC',\n",
    " 'status': 'CANCELED',\n",
    " 'type': 'LIMIT_MAKER',\n",
    " 'side': 'SELL',\n",
    " 'price': Decimal('2.8E-7'),\n",
    " 'stop_price': Decimal('0E-8'),\n",
    " 'time_in_force': 'GTC',\n",
    " 'requested_quantity': Decimal('2671.00000000'),\n",
    " 'executed_quantity': Decimal('0E-8'),\n",
    " 'created_at': datetime.datetime(2022, 9, 9, 12, 8, 51, 122000),\n",
    " 'updated_at': datetime.datetime(2022, 9, 9, 12, 9, 4, 185000),\n",
    " 'strategy_id': None,\n",
    " 'internal_id': UUID('e84445cf-4e3a-485e-a7f3-9ff3c80630f2')}\n",
    "```\n",
    "\n",
    "# Sell All Maker and Market AMP => BTC\n",
    "\n",
    "```python\n",
    "order = await order_manager.sell_all_market(\"AMPBTC\")\n",
    "order\n",
    "{'id': 8989530,\n",
    " 'symbol': 'AMPBTC',\n",
    " 'status': 'FILLED',\n",
    " 'type': 'MARKET',\n",
    " 'side': 'SELL',\n",
    " 'price': Decimal('0E-8'),\n",
    " 'stop_price': Decimal('0E-8'),\n",
    " 'time_in_force': 'GTC',\n",
    " 'requested_quantity': Decimal('2671.00000000'),\n",
    " 'executed_quantity': Decimal('2671.00000000'),\n",
    " 'created_at': datetime.datetime(2022, 9, 9, 12, 11, 4, 899000),\n",
    " 'updated_at': datetime.datetime(2022, 9, 9, 12, 11, 4, 899000),\n",
    " 'strategy_id': None,\n",
    " 'internal_id': UUID('3357085e-850a-4c44-bf50-b8d0605cdd60')}\n",
    "TAKEPOS (14:11:04) AMPBTC  = SELL ALL MARKET 2671.0\n",
    "```"
   ]
  },
  {
   "cell_type": "code",
   "execution_count": 37,
   "id": "c1c4e88b",
   "metadata": {},
   "outputs": [],
   "source": [
    "from decimal import Decimal\n",
    "from pprint import pprint\n",
    "\n",
    "from analyst.adapters.factory import get_adapters\n",
    "from analyst.bot.order_manager import OrderManager, Side, PairSide\n",
    "from analyst.controllers.factory import get_controllers\n",
    "from analyst.repositories.factory import get_repositories\n",
    "from analyst.settings import get_settings"
   ]
  },
  {
   "cell_type": "code",
   "execution_count": 38,
   "id": "1101298c",
   "metadata": {},
   "outputs": [
    {
     "data": {
      "text/html": [
       "<style>.container { width:100% !important; }</style>"
      ],
      "text/plain": [
       "<IPython.core.display.HTML object>"
      ]
     },
     "metadata": {},
     "output_type": "display_data"
    }
   ],
   "source": [
    "from IPython.display import display, HTML\n",
    "display(HTML(\"<style>.container { width:100% !important; }</style>\"))"
   ]
  },
  {
   "cell_type": "code",
   "execution_count": 39,
   "id": "c1822f6d",
   "metadata": {},
   "outputs": [
    {
     "name": "stdout",
     "output_type": "stream",
     "text": [
      "2022-10-01 21:35:40,020 DEBUG    adapters.binance    weight setup: amount=51 amount_1m=51\n",
      "2022-10-01 21:35:40,025 DEBUG    order_manager       setup\n",
      "2022-10-01 21:35:40,026 DEBUG    order_manager       load account\n",
      "2022-10-01 21:35:40,405 DEBUG    controllers.binance load account: {\n",
      "  \"BTC\": 0.02556817,\n",
      "  \"BNB\": 3.25e-06,\n",
      "  \"USDT\": 1.816688,\n",
      "  \"LINK\": 0.00108,\n",
      "  \"RLC\": 0.0192,\n",
      "  \"IOST\": 0.8064,\n",
      "  \"QLC\": 0.4,\n",
      "  \"HOT\": 33.1672,\n",
      "  \"TFUEL\": 0.4592,\n",
      "  \"COS\": 0.1712,\n",
      "  \"PERL\": 0.21064,\n",
      "  \"DGB\": 1.0728,\n",
      "  \"TCT\": 0.5328,\n",
      "  \"STMX\": 0.3152,\n",
      "  \"LINA\": 0.98,\n",
      "  \"JASMY\": 0.03232,\n",
      "  \"AMP\": 0.01040004\n",
      "}\n",
      "2022-10-01 21:35:40,405 DEBUG    order_manager       load pairs\n",
      "2022-10-01 21:35:41,011 DEBUG    controllers.binance loaded pairs: 2098\n"
     ]
    }
   ],
   "source": [
    "settings = get_settings()\n",
    "adapters = await get_adapters(settings=settings)\n",
    "repositories = get_repositories(\n",
    "    settings=settings,\n",
    "    adapters=adapters\n",
    ")\n",
    "controllers = get_controllers(\n",
    "    adapters=adapters,\n",
    "    repositories=repositories\n",
    ")\n",
    "\n",
    "order_manager = OrderManager(controllers=controllers)\n",
    "\n",
    "await order_manager.setup()"
   ]
  },
  {
   "cell_type": "code",
   "execution_count": 40,
   "id": "a7a7f2f0",
   "metadata": {},
   "outputs": [
    {
     "name": "stdout",
     "output_type": "stream",
     "text": [
      "2022-10-01 21:35:49,416 DEBUG    order_manager       load pairs\n",
      "2022-10-01 21:35:49,978 DEBUG    controllers.binance loaded pairs: 2098\n",
      "\n",
      "btcusdt.ask_price=Decimal('19295.83000000')\n",
      "btcusdt.bid_price=Decimal('19295.53000000')\n",
      "2022-10-01 21:35:49,980 DEBUG    order_manager       convert: 0.001 * 19295.83000000 => 19.29583000000\n",
      "2022-10-01 21:35:49,981 DEBUG    order_manager       convert: 10 / 19295.53000000 => 0.0005182547460474006155829873551\n",
      "2022-10-01 21:35:49,982 DEBUG    order_manager       convert: 0.00053 * 19295.53000000 => 10.2266309000000\n"
     ]
    },
    {
     "data": {
      "text/plain": [
       "Decimal('10.2266309000000')"
      ]
     },
     "execution_count": 40,
     "metadata": {},
     "output_type": "execute_result"
    }
   ],
   "source": [
    "await order_manager.load_pairs()\n",
    "btcusdt = order_manager.pairs[\"BTCUSDT\"]\n",
    "\n",
    "print()\n",
    "print(f\"{btcusdt.ask_price=}\")\n",
    "print(f\"{btcusdt.bid_price=}\")\n",
    "\n",
    "order_manager.convert_quantity(Decimal(\"0.001\"), btcusdt.ask_price, to=PairSide.quote)\n",
    "order_manager.convert_quantity(Decimal(\"10\"), btcusdt.bid_price, to=PairSide.base)\n",
    "order_manager.convert_quantity(Decimal(\"0.00053\"), btcusdt.bid_price, to=PairSide.quote)"
   ]
  },
  {
   "cell_type": "code",
   "execution_count": 31,
   "id": "dc96f2af",
   "metadata": {},
   "outputs": [
    {
     "name": "stdout",
     "output_type": "stream",
     "text": [
      "2022-10-01 15:57:36,014 DEBUG    order_manager       convert: 10 / 30000 => 0.0003333333333333333333333333333\n"
     ]
    },
    {
     "data": {
      "text/plain": [
       "Decimal('0.0003333333333333333333333333333')"
      ]
     },
     "execution_count": 31,
     "metadata": {},
     "output_type": "execute_result"
    }
   ],
   "source": [
    "order_manager.convert_quantity(Decimal(\"10\"), Decimal(\"30000\"), to=PairSide.base)"
   ]
  },
  {
   "cell_type": "code",
   "execution_count": 43,
   "id": "7e5ed83d",
   "metadata": {},
   "outputs": [
    {
     "name": "stdout",
     "output_type": "stream",
     "text": [
      "2022-10-01 21:43:47,476 DEBUG    order_manager       floored quantity: 0.00034 on BTCUSDT => 0.00034\n",
      "2022-10-01 21:43:47,477 DEBUG    order_manager       create order: #82ca05c0 SELL BTCUSDT: 0.00034 @ 30000 #maker\n",
      "2022-10-01 21:43:47,867 DEBUG    adapters.binance    create order: sending {\n",
      "    \"symbol\": \"BTCUSDT\",\n",
      "    \"side\": \"SELL\",\n",
      "    \"type\": \"LIMIT_MAKER\",\n",
      "    \"timestamp\": \"1664660627000\",\n",
      "    \"quantity\": 0.00034,\n",
      "    \"price\": \"30000\",\n",
      "    \"signature\": \"3021789599fe4eed0e3fcf3d632fb7cd351c7e92bb1226a61131e3bad52b6438\"\n",
      "}\n",
      "2022-10-01 21:43:47,870 DEBUG    adapters.binance    create order: get {\n",
      "    \"symbol\": \"BTCUSDT\",\n",
      "    \"orderId\": 14037726188,\n",
      "    \"orderListId\": -1,\n",
      "    \"clientOrderId\": \"LRG3RplOFjIFuA7KizZ9Z2\",\n",
      "    \"transactTime\": 1664660627644\n",
      "}\n",
      "2022-10-01 21:43:48,239 INFO     order_manager       created order: #82ca05c0 order_id=1fbc4483-87dd-40d5-8b2a-24f17d2ef398 strategy_id=None\n",
      "2022-10-01 21:43:48,240 INFO     order_manager       update order 1fbc4483-87dd-40d5-8b2a-24f17d2ef398 strategy_id=None\n",
      "2022-10-01 21:43:48,242 DEBUG    controllers.mongo   store order 1fbc4483-87dd-40d5-8b2a-24f17d2ef398\n",
      "2022-10-01 21:43:48,247 DEBUG    repo.orders         does not exist: id=14037726188 symbol=BTCUSDT\n",
      "2022-10-01 21:43:48,249 DEBUG    repo.orders         creating id=14037726188 symbol=BTCUSDT => 1fbc4483-87dd-40d5-8b2a-24f17d2ef398\n",
      "2022-10-01 21:43:48,257 INFO     repo.orders         created id=14037726188 symbol=BTCUSDT => 1fbc4483-87dd-40d5-8b2a-24f17d2ef398\n",
      "2022-10-01 21:43:48,257 INFO     controllers.mongo   store order 1fbc4483-87dd-40d5-8b2a-24f17d2ef398: create\n",
      "{'created_at': datetime.datetime(2022, 10, 1, 21, 43, 47, 644000),\n",
      " 'executed_quantity': Decimal('0E-8'),\n",
      " 'id': 14037726188,\n",
      " 'internal_id': UUID('1fbc4483-87dd-40d5-8b2a-24f17d2ef398'),\n",
      " 'price': Decimal('30000.00000000'),\n",
      " 'requested_quantity': Decimal('0.00034000'),\n",
      " 'side': 'SELL',\n",
      " 'status': 'NEW',\n",
      " 'stop_price': Decimal('0E-8'),\n",
      " 'strategy_id': None,\n",
      " 'symbol': 'BTCUSDT',\n",
      " 'time_in_force': 'GTC',\n",
      " 'type': 'LIMIT_MAKER',\n",
      " 'updated_at': datetime.datetime(2022, 10, 1, 21, 43, 47, 644000)}\n"
     ]
    }
   ],
   "source": [
    "order = await order_manager.create_order(\n",
    "    symbol=\"BTCUSDT\",\n",
    "    side=Side.sell,\n",
    "    quantity=Decimal(\"0.00034\"),\n",
    "    price=Decimal(\"30000\"),\n",
    "    market_making=True\n",
    ")\n",
    "\n",
    "pprint(order.dict())"
   ]
  },
  {
   "cell_type": "code",
   "execution_count": 44,
   "id": "e74d327c",
   "metadata": {},
   "outputs": [
    {
     "name": "stdout",
     "output_type": "stream",
     "text": [
      "2022-10-01 21:43:54,609 INFO     order_manager       cancel order 1fbc4483-87dd-40d5-8b2a-24f17d2ef398 strategy_id=None\n",
      "2022-10-01 21:43:55,274 INFO     order_manager       update order 6d734a26-61e7-434f-8266-8d37650634cd strategy_id=None\n",
      "2022-10-01 21:43:55,275 DEBUG    controllers.mongo   store order 6d734a26-61e7-434f-8266-8d37650634cd\n",
      "2022-10-01 21:43:55,280 DEBUG    repo.orders         updating internal_id=1fbc4483-87dd-40d5-8b2a-24f17d2ef398\n",
      "2022-10-01 21:43:55,289 INFO     repo.orders         update successful: internal_id=1fbc4483-87dd-40d5-8b2a-24f17d2ef398\n",
      "2022-10-01 21:43:55,290 INFO     controllers.mongo   store order 1fbc4483-87dd-40d5-8b2a-24f17d2ef398: update\n",
      "{'created_at': datetime.datetime(2022, 10, 1, 21, 43, 47, 644000),\n",
      " 'executed_quantity': Decimal('0E-8'),\n",
      " 'id': 14037726188,\n",
      " 'internal_id': UUID('1fbc4483-87dd-40d5-8b2a-24f17d2ef398'),\n",
      " 'price': Decimal('30000.00000000'),\n",
      " 'requested_quantity': Decimal('0.00034000'),\n",
      " 'side': 'SELL',\n",
      " 'status': 'CANCELED',\n",
      " 'stop_price': Decimal('0E-8'),\n",
      " 'strategy_id': None,\n",
      " 'symbol': 'BTCUSDT',\n",
      " 'time_in_force': 'GTC',\n",
      " 'type': 'LIMIT_MAKER',\n",
      " 'updated_at': datetime.datetime(2022, 10, 1, 21, 43, 54, 766000)}\n"
     ]
    }
   ],
   "source": [
    "order = await order_manager.cancel_order(order)\n",
    "\n",
    "pprint(order.dict())"
   ]
  },
  {
   "cell_type": "code",
   "execution_count": null,
   "id": "13d12f4f",
   "metadata": {},
   "outputs": [],
   "source": [
    "await order_manager.get_updated_orders()"
   ]
  },
  {
   "cell_type": "code",
   "execution_count": null,
   "id": "4343b3e3",
   "metadata": {},
   "outputs": [],
   "source": [
    "from uuid import UUID\n",
    "id = UUID('39a81c00-38d0-4698-9078-077a13d1e93d')\n",
    "order = await order_manager.setup_order(id)\n",
    "order"
   ]
  },
  {
   "cell_type": "code",
   "execution_count": null,
   "id": "8da8df1f",
   "metadata": {},
   "outputs": [],
   "source": [
    "order_manager.orders[id] = order"
   ]
  },
  {
   "cell_type": "code",
   "execution_count": null,
   "id": "1c8683cf",
   "metadata": {},
   "outputs": [],
   "source": [
    "order_manager.orders"
   ]
  },
  {
   "cell_type": "code",
   "execution_count": null,
   "id": "fa7b8cae",
   "metadata": {},
   "outputs": [],
   "source": [
    "cancelled = await controllers.binance.cancel_order(order)"
   ]
  },
  {
   "cell_type": "code",
   "execution_count": null,
   "id": "7a766cb6",
   "metadata": {},
   "outputs": [],
   "source": [
    "cancelled"
   ]
  },
  {
   "cell_type": "code",
   "execution_count": null,
   "id": "299d7422",
   "metadata": {},
   "outputs": [],
   "source": [
    "pair = pairs[\"AMPBTC\"]\n",
    "pair"
   ]
  },
  {
   "cell_type": "code",
   "execution_count": null,
   "id": "17b2bb0e",
   "metadata": {},
   "outputs": [],
   "source": [
    "from datetime import datetime\n",
    "import asyncio\n",
    "from pprint import pprint\n",
    "order = await order_manager.buy_market(\"AMPBTC\", pair.ask_price, Decimal(0.0003))\n",
    "for i in range(20):\n",
    "    print(datetime.now())\n",
    "    await asyncio.sleep(.1)\n",
    "\n",
    "    pprint((await controllers.binance.load_account())[\"AMP\"])"
   ]
  },
  {
   "cell_type": "code",
   "execution_count": null,
   "id": "d1eb5d5f",
   "metadata": {},
   "outputs": [],
   "source": [
    "order = await order_manager.sell_market(\"AMPBTC\", Decimal('5771'))"
   ]
  },
  {
   "cell_type": "code",
   "execution_count": null,
   "id": "7e4ca5ef",
   "metadata": {},
   "outputs": [],
   "source": [
    "pprint(order.dict())"
   ]
  },
  {
   "cell_type": "code",
   "execution_count": null,
   "id": "03bf1e44",
   "metadata": {},
   "outputs": [],
   "source": [
    "await controllers.mongo.get_running_strategies()"
   ]
  },
  {
   "cell_type": "code",
   "execution_count": null,
   "id": "33442e2f",
   "metadata": {},
   "outputs": [],
   "source": []
  }
 ],
 "metadata": {
  "kernelspec": {
   "display_name": "Python 3 (ipykernel)",
   "language": "python",
   "name": "python3"
  },
  "language_info": {
   "codemirror_mode": {
    "name": "ipython",
    "version": 3
   },
   "file_extension": ".py",
   "mimetype": "text/x-python",
   "name": "python",
   "nbconvert_exporter": "python",
   "pygments_lexer": "ipython3",
   "version": "3.8.12"
  }
 },
 "nbformat": 4,
 "nbformat_minor": 5
}
