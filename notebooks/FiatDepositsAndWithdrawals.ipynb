{
 "cells": [
  {
   "cell_type": "markdown",
   "id": "828701b7",
   "metadata": {},
   "source": [
    "# Get fiat deposits and withdrawals\n",
    "### Only can handle 2 calls per minutes\n",
    "\n",
    "Endpoint /sapi/v1/fiat/orders has weight of 90000, 180000 available each minutes\n",
    "\n",
    "Run until limit variable is reached"
   ]
  },
  {
   "cell_type": "code",
   "execution_count": null,
   "id": "fcdc080f",
   "metadata": {},
   "outputs": [],
   "source": [
    "import asyncio\n",
    "\n",
    "from datetime import datetime, timedelta\n",
    "from analyst.settings import get_settings\n",
    "from analyst.adapters.factory import get_adapters"
   ]
  },
  {
   "cell_type": "code",
   "execution_count": null,
   "id": "0d7efc23",
   "metadata": {},
   "outputs": [],
   "source": [
    "settings = get_settings()\n",
    "adapters = await get_adapters(settings=settings)\n",
    "\n",
    "limit = datetime(2018, 1, 1)\n",
    "\n",
    "async with await adapters.binance.get_session() as session:\n",
    "    end_time = datetime.now()\n",
    "    delta = timedelta(days=0)\n",
    "    \n",
    "    while True:\n",
    "        for transaction_type in range(2):\n",
    "            params = {\n",
    "                \"transactionType\": transaction_type,\n",
    "                \"beginTime\": (end_time - timedelta(days=90)).strftime(\"%s000\"),\n",
    "                \"endTime\": end_time.strftime(\"%s000\"),\n",
    "                \"timestamp\": datetime.now().strftime(\"%s000\")\n",
    "            }\n",
    "            params[\"signature\"] = adapters.binance._get_signature(params)\n",
    "\n",
    "            response = await session.get(\n",
    "                f\"{settings.binance.api_url}/sapi/v1/fiat/orders\",\n",
    "                params=params\n",
    "            )\n",
    "\n",
    "            orders = [\n",
    "                order\n",
    "                for order in (await response.json())[\"data\"]\n",
    "                if order[\"status\"] == \"Successful\"\n",
    "            ]\n",
    "\n",
    "            for order in orders:\n",
    "                print(\n",
    "                    f\"{'depot' if transaction_type == 0 else 'retrait':9s}\",\n",
    "                    datetime.fromtimestamp(order[\"updateTime\"] / 1000).strftime(\"%x\"),\n",
    "                    f\"amount = {order['amount']} total = {order['indicatedAmount']} fee = {order['totalFee']}\"\n",
    "                )\n",
    "\n",
    "            await asyncio.sleep(30)\n",
    "            \n",
    "            break\n",
    "        \n",
    "        break\n",
    "\n",
    "        end_time -= timedelta(days=90)\n",
    "        \n",
    "        if end_time < limit:\n",
    "            break"
   ]
  },
  {
   "cell_type": "code",
   "execution_count": null,
   "id": "596915b9",
   "metadata": {},
   "outputs": [],
   "source": []
  }
 ],
 "metadata": {
  "kernelspec": {
   "display_name": "Python 3 (ipykernel)",
   "language": "python",
   "name": "python3"
  },
  "language_info": {
   "codemirror_mode": {
    "name": "ipython",
    "version": 3
   },
   "file_extension": ".py",
   "mimetype": "text/x-python",
   "name": "python",
   "nbconvert_exporter": "python",
   "pygments_lexer": "ipython3",
   "version": "3.8.12"
  }
 },
 "nbformat": 4,
 "nbformat_minor": 5
}
